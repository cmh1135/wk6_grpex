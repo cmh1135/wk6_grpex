{
 "cells": [
  {
   "cell_type": "code",
   "execution_count": null,
   "id": "70339fa9",
   "metadata": {},
   "outputs": [],
   "source": [
    " Import jeopardy.csv and create a dataframe from the data. Find out the following:\n",
    "a. How many rows are there in the dataframe? What does a row represent in this\n",
    "dataset? What is the “grain”?\n",
    "b. Clean the data. How do you need to “clean” it? What is “dirty” about this data?\n",
    "c. How many unique shows were there each year?\n",
    "d. How many times was each category used?\n",
    "e. Which month (over the years) has had the most shows?\n",
    "f. Are there any answers that appeared multiple times? Find the questions for the top\n",
    "three most common answers.\n"
   ]
  },
  {
   "cell_type": "code",
   "execution_count": 5,
   "id": "b985f396",
   "metadata": {},
   "outputs": [
    {
     "data": {
      "text/html": [
       "<div>\n",
       "<style scoped>\n",
       "    .dataframe tbody tr th:only-of-type {\n",
       "        vertical-align: middle;\n",
       "    }\n",
       "\n",
       "    .dataframe tbody tr th {\n",
       "        vertical-align: top;\n",
       "    }\n",
       "\n",
       "    .dataframe thead th {\n",
       "        text-align: right;\n",
       "    }\n",
       "</style>\n",
       "<table border=\"1\" class=\"dataframe\">\n",
       "  <thead>\n",
       "    <tr style=\"text-align: right;\">\n",
       "      <th></th>\n",
       "      <th>Show Number</th>\n",
       "      <th>Air Date</th>\n",
       "      <th>Round</th>\n",
       "      <th>Category</th>\n",
       "      <th>Value</th>\n",
       "      <th>Question</th>\n",
       "      <th>Answer</th>\n",
       "    </tr>\n",
       "  </thead>\n",
       "  <tbody>\n",
       "    <tr>\n",
       "      <th>0</th>\n",
       "      <td>4680</td>\n",
       "      <td>12/31/2004</td>\n",
       "      <td>Jeopardy!</td>\n",
       "      <td>HISTORY</td>\n",
       "      <td>$200</td>\n",
       "      <td>For the last 8 years of his life, Galileo was ...</td>\n",
       "      <td>Copernicus</td>\n",
       "    </tr>\n",
       "    <tr>\n",
       "      <th>1</th>\n",
       "      <td>4680</td>\n",
       "      <td>12/31/2004</td>\n",
       "      <td>Jeopardy!</td>\n",
       "      <td>ESPN's TOP 10 ALL-TIME ATHLETES</td>\n",
       "      <td>$200</td>\n",
       "      <td>No. 2: 1912 Olympian; football star at Carlisl...</td>\n",
       "      <td>Jim Thorpe</td>\n",
       "    </tr>\n",
       "    <tr>\n",
       "      <th>2</th>\n",
       "      <td>4680</td>\n",
       "      <td>12/31/2004</td>\n",
       "      <td>Jeopardy!</td>\n",
       "      <td>EVERYBODY TALKS ABOUT IT...</td>\n",
       "      <td>$200</td>\n",
       "      <td>The city of Yuma in this state has a record av...</td>\n",
       "      <td>Arizona</td>\n",
       "    </tr>\n",
       "    <tr>\n",
       "      <th>3</th>\n",
       "      <td>4680</td>\n",
       "      <td>12/31/2004</td>\n",
       "      <td>Jeopardy!</td>\n",
       "      <td>THE COMPANY LINE</td>\n",
       "      <td>$200</td>\n",
       "      <td>In 1963, live on \"The Art Linkletter Show\", th...</td>\n",
       "      <td>McDonald's</td>\n",
       "    </tr>\n",
       "    <tr>\n",
       "      <th>4</th>\n",
       "      <td>4680</td>\n",
       "      <td>12/31/2004</td>\n",
       "      <td>Jeopardy!</td>\n",
       "      <td>EPITAPHS &amp; TRIBUTES</td>\n",
       "      <td>$200</td>\n",
       "      <td>Signer of the Dec. of Indep., framer of the Co...</td>\n",
       "      <td>John Adams</td>\n",
       "    </tr>\n",
       "  </tbody>\n",
       "</table>\n",
       "</div>"
      ],
      "text/plain": [
       "   Show Number    Air Date      Round                         Category  Value  \\\n",
       "0         4680  12/31/2004  Jeopardy!                          HISTORY  $200    \n",
       "1         4680  12/31/2004  Jeopardy!  ESPN's TOP 10 ALL-TIME ATHLETES  $200    \n",
       "2         4680  12/31/2004  Jeopardy!      EVERYBODY TALKS ABOUT IT...  $200    \n",
       "3         4680  12/31/2004  Jeopardy!                 THE COMPANY LINE  $200    \n",
       "4         4680  12/31/2004  Jeopardy!              EPITAPHS & TRIBUTES  $200    \n",
       "\n",
       "                                            Question      Answer  \n",
       "0  For the last 8 years of his life, Galileo was ...  Copernicus  \n",
       "1  No. 2: 1912 Olympian; football star at Carlisl...  Jim Thorpe  \n",
       "2  The city of Yuma in this state has a record av...     Arizona  \n",
       "3  In 1963, live on \"The Art Linkletter Show\", th...  McDonald's  \n",
       "4  Signer of the Dec. of Indep., framer of the Co...  John Adams  "
      ]
     },
     "execution_count": 5,
     "metadata": {},
     "output_type": "execute_result"
    }
   ],
   "source": [
    "import pandas as pd\n",
    "import numpy as np\n",
    "import matplotlib.pyplot as plt\n",
    "\n",
    "jep = \"JEOPARDY_CSV.csv\"\n",
    "jep_df = pd.read_csv(\"JEOPARDY_CSV.csv\")\n",
    "jep_df.head()"
   ]
  },
  {
   "cell_type": "code",
   "execution_count": 167,
   "id": "1696f663",
   "metadata": {},
   "outputs": [
    {
     "data": {
      "text/html": [
       "<div>\n",
       "<style scoped>\n",
       "    .dataframe tbody tr th:only-of-type {\n",
       "        vertical-align: middle;\n",
       "    }\n",
       "\n",
       "    .dataframe tbody tr th {\n",
       "        vertical-align: top;\n",
       "    }\n",
       "\n",
       "    .dataframe thead th {\n",
       "        text-align: right;\n",
       "    }\n",
       "</style>\n",
       "<table border=\"1\" class=\"dataframe\">\n",
       "  <thead>\n",
       "    <tr style=\"text-align: right;\">\n",
       "      <th></th>\n",
       "      <th>Rows</th>\n",
       "    </tr>\n",
       "  </thead>\n",
       "  <tbody>\n",
       "    <tr>\n",
       "      <th>0</th>\n",
       "      <td>216930</td>\n",
       "    </tr>\n",
       "  </tbody>\n",
       "</table>\n",
       "</div>"
      ],
      "text/plain": [
       "     Rows\n",
       "0  216930"
      ]
     },
     "execution_count": 167,
     "metadata": {},
     "output_type": "execute_result"
    }
   ],
   "source": [
    "#How many rows are there in the dataframe? 216930\n",
    "#What does a row represent in this dataset? each row gives a question/answer for for a jeopardy show by date and show number  \n",
    "#What is the “grain”?\n",
    "\n",
    "\n",
    "row_count = jep_df[\"Show Number\"].count()\n",
    "jep_df.tail() #verifying (216929)\n",
    "pd.DataFrame({\"Rows\": [row_count]})"
   ]
  },
  {
   "cell_type": "code",
   "execution_count": 12,
   "id": "21233aee",
   "metadata": {},
   "outputs": [
    {
     "name": "stdout",
     "output_type": "stream",
     "text": [
      "        Show Number   Air Date             Round  \\\n",
      "0              4680 2004-12-31         Jeopardy!   \n",
      "1              4680 2004-12-31         Jeopardy!   \n",
      "2              4680 2004-12-31         Jeopardy!   \n",
      "3              4680 2004-12-31         Jeopardy!   \n",
      "4              4680 2004-12-31         Jeopardy!   \n",
      "...             ...        ...               ...   \n",
      "216925         4999 2006-05-11  Double Jeopardy!   \n",
      "216926         4999 2006-05-11  Double Jeopardy!   \n",
      "216927         4999 2006-05-11  Double Jeopardy!   \n",
      "216928         4999 2006-05-11  Double Jeopardy!   \n",
      "216929         4999 2006-05-11   Final Jeopardy!   \n",
      "\n",
      "                               Category    Value  \\\n",
      "0                               HISTORY    $200    \n",
      "1       ESPN's TOP 10 ALL-TIME ATHLETES    $200    \n",
      "2           EVERYBODY TALKS ABOUT IT...    $200    \n",
      "3                      THE COMPANY LINE    $200    \n",
      "4                   EPITAPHS & TRIBUTES    $200    \n",
      "...                                 ...      ...   \n",
      "216925                   RIDDLE ME THIS  $2,000    \n",
      "216926                        \"T\" BIRDS  $2,000    \n",
      "216927           AUTHORS IN THEIR YOUTH  $2,000    \n",
      "216928                       QUOTATIONS  $2,000    \n",
      "216929                   HISTORIC NAMES     None   \n",
      "\n",
      "                                                 Question  \\\n",
      "0       For the last 8 years of his life, Galileo was ...   \n",
      "1       No. 2: 1912 Olympian; football star at Carlisl...   \n",
      "2       The city of Yuma in this state has a record av...   \n",
      "3       In 1963, live on \"The Art Linkletter Show\", th...   \n",
      "4       Signer of the Dec. of Indep., framer of the Co...   \n",
      "...                                                   ...   \n",
      "216925  This Puccini opera turns on the solution to 3 ...   \n",
      "216926  In North America this term is properly applied...   \n",
      "216927  In Penny Lane, where this \"Hellraiser\" grew up...   \n",
      "216928  From Ft. Sill, Okla. he made the plea, Arizona...   \n",
      "216929  A silent movie title includes the last name of...   \n",
      "\n",
      "                                Answer  Year  \n",
      "0                           Copernicus  2004  \n",
      "1                           Jim Thorpe  2004  \n",
      "2                              Arizona  2004  \n",
      "3                           McDonald's  2004  \n",
      "4                           John Adams  2004  \n",
      "...                                ...   ...  \n",
      "216925                        Turandot  2006  \n",
      "216926                      a titmouse  2006  \n",
      "216927                    Clive Barker  2006  \n",
      "216928                        Geronimo  2006  \n",
      "216929  Grigori Alexandrovich Potemkin  2006  \n",
      "\n",
      "[216930 rows x 8 columns]\n"
     ]
    }
   ],
   "source": [
    "#b. Clean the data. How do you need to “clean” it? What is “dirty” about this data?\n",
    "\n",
    "# Every column name except 'show number' has leading spces, there are also spaces in the column list as well and date format is incorrect \n",
    "\n",
    "jep_df.columns #check columns for spaces\n",
    "\n",
    "jep_df.columns = [col.strip() for col in jep_df.columns]  #remove spaces from all column names\n",
    "jep_df.columns #verify \n",
    "\n",
    "#strip within the column\n",
    "jep_df['Category'].str.strip()\n",
    "jep_df['Answer'].str.strip()\n",
    "jep_df['Question'].str.strip()\n",
    "\n",
    "print(jep_df)\n",
    "#change date format\n",
    "jep_df[\"Air Date\"] = pd.to_datetime(jep_df[\"Air Date\"]).dt.strftime('%Y-%m-%d')\n"
   ]
  },
  {
   "cell_type": "markdown",
   "id": "e24e2b45",
   "metadata": {},
   "source": [
    "# How many times was each category used?\n"
   ]
  },
  {
   "cell_type": "code",
   "execution_count": 24,
   "id": "71055065",
   "metadata": {},
   "outputs": [
    {
     "data": {
      "text/plain": [
       "BEFORE & AFTER             547\n",
       "SCIENCE                    519\n",
       "LITERATURE                 496\n",
       "AMERICAN HISTORY           418\n",
       "POTPOURRI                  401\n",
       "WORLD HISTORY              377\n",
       "WORD ORIGINS               371\n",
       "COLLEGES & UNIVERSITIES    351\n",
       "HISTORY                    349\n",
       "SPORTS                     342\n",
       "U.S. CITIES                339\n",
       "WORLD GEOGRAPHY            338\n",
       "BODIES OF WATER            327\n",
       "ANIMALS                    324\n",
       "STATE CAPITALS             314\n",
       "BUSINESS & INDUSTRY        311\n",
       "ISLANDS                    301\n",
       "WORLD CAPITALS             300\n",
       "U.S. GEOGRAPHY             299\n",
       "RELIGION                   297\n",
       "SHAKESPEARE                294\n",
       "OPERA                      294\n",
       "LANGUAGES                  284\n",
       "BALLET                     282\n",
       "TELEVISION                 281\n",
       "FICTIONAL CHARACTERS       280\n",
       "RHYME TIME                 279\n",
       "TRANSPORTATION             279\n",
       "PEOPLE                     279\n",
       "ART & ARTISTS              270\n",
       "STUPID ANSWERS             270\n",
       "THE BIBLE                  267\n",
       "ART                        258\n",
       "BOOKS & AUTHORS            255\n",
       "U.S. HISTORY               250\n",
       "FOOD                       246\n",
       "MUSEUMS                    245\n",
       "AMERICANA                  244\n",
       "SCIENCE & NATURE           244\n",
       "COMMON BONDS               243\n",
       "GEOGRAPHY                  242\n",
       "HOLIDAYS & OBSERVANCES     242\n",
       "3-LETTER WORDS             240\n",
       "ANNUAL EVENTS              236\n",
       "AMERICAN LITERATURE        234\n",
       "CLASSICAL MUSIC            233\n",
       "AUTHORS                    232\n",
       "POP MUSIC                  232\n",
       "POETS & POETRY             230\n",
       "QUOTATIONS                 226\n",
       "Name: Category, dtype: int64"
      ]
     },
     "execution_count": 24,
     "metadata": {},
     "output_type": "execute_result"
    }
   ],
   "source": [
    "jp_1=jep_df['Category'].value_counts()\n",
    "jp_1.head(50)"
   ]
  },
  {
   "cell_type": "markdown",
   "id": "f29d8969",
   "metadata": {},
   "source": [
    "# How many unique shows were there each year?\n"
   ]
  },
  {
   "cell_type": "code",
   "execution_count": 16,
   "id": "18d3d52c",
   "metadata": {},
   "outputs": [
    {
     "name": "stdout",
     "output_type": "stream",
     "text": [
      "Year\n",
      "1984     23\n",
      "1985     16\n",
      "1986     25\n",
      "1987     22\n",
      "1988     22\n",
      "1989     36\n",
      "1990     73\n",
      "1991     24\n",
      "1992     32\n",
      "1993     35\n",
      "1994     19\n",
      "1995     19\n",
      "1996     83\n",
      "1997    221\n",
      "1998    223\n",
      "1999    229\n",
      "2000    225\n",
      "2001    203\n",
      "2002    114\n",
      "2003    158\n",
      "2004    220\n",
      "2005    225\n",
      "2006    230\n",
      "2007    231\n",
      "2008    232\n",
      "2009    226\n",
      "2010    231\n",
      "2011    224\n",
      "2012     19\n",
      "Name: Show Number, dtype: int64\n"
     ]
    }
   ],
   "source": [
    "#steps from wk 5 grp ex\n",
    "# first change Air Date to a date format\n",
    "jep_df[\"Air Date\"] = jep_df[\"Air Date\"].astype('datetime64[ns]')\n",
    "\n",
    "#then pull year \n",
    "jep_df[\"Year\"] = jep_df[\"Air Date\"].dt.year\n",
    "#jep_df.head()\n",
    "\n",
    "#grouping the data by year/show and isolating just the unique shows per year\n",
    "jp2=jep_df.groupby( \"Year\")['Show Number'].nunique()\n",
    "print(jp2.head(29))"
   ]
  },
  {
   "cell_type": "markdown",
   "id": "85d8d521",
   "metadata": {},
   "source": [
    "# Which month (over the years) has had the most shows?\n",
    "May and November\n"
   ]
  },
  {
   "cell_type": "code",
   "execution_count": 38,
   "id": "d3ad9496",
   "metadata": {},
   "outputs": [
    {
     "data": {
      "text/plain": [
       "Month  Show Number\n",
       "5      2941           62\n",
       "11     5332           62\n",
       "1      1239           61\n",
       "7      2978           61\n",
       "       2981           61\n",
       "                      ..\n",
       "2      6086           30\n",
       "9      2757           30\n",
       "1      6300           30\n",
       "10     3022           16\n",
       "       1178           12\n",
       "Name: Show Number, Length: 3640, dtype: int64"
      ]
     },
     "execution_count": 38,
     "metadata": {},
     "output_type": "execute_result"
    }
   ],
   "source": [
    "#steps from wk 5 grp ex\n",
    "# first change Air Date to a month date format\n",
    "jep_df[\"Air Date\"] = jep_df[\"Air Date\"].astype('datetime64[M]')\n",
    "\n",
    "#then pull months \n",
    "jep_df[\"Month\"] = jep_df[\"Air Date\"].dt.month\n",
    "#jep_df.head()\n",
    "\n",
    "k=jep_df.groupby(\"Month\")['Show Number'].value_counts()\n",
    "#sort by by highest number of shows\n",
    "k.sort_values(ascending=False)"
   ]
  },
  {
   "cell_type": "markdown",
   "id": "143a557a",
   "metadata": {},
   "source": [
    "# Are there any answers that appeared multiple times?\n"
   ]
  },
  {
   "cell_type": "code",
   "execution_count": 51,
   "id": "7a8b2a24",
   "metadata": {},
   "outputs": [
    {
     "data": {
      "text/plain": [
       "China                216\n",
       "Australia            215\n",
       "Japan                196\n",
       "Chicago              194\n",
       "France               193\n",
       "India                185\n",
       "California           180\n",
       "Canada               176\n",
       "Spain                171\n",
       "Mexico               164\n",
       "Alaska               161\n",
       "Italy                160\n",
       "Hawaii               157\n",
       "Texas                153\n",
       "Paris                149\n",
       "Germany              147\n",
       "Russia               141\n",
       "Florida              140\n",
       "South Africa         139\n",
       "Ireland              136\n",
       "Brazil               133\n",
       "London               132\n",
       "Sweden               130\n",
       "New Orleans          128\n",
       "George Washington    128\n",
       "Greece               125\n",
       "Ronald Reagan        123\n",
       "New York             122\n",
       "Egypt                122\n",
       "Abraham Lincoln      120\n",
       "Boston               119\n",
       "Thomas Jefferson     118\n",
       "Georgia              118\n",
       "San Francisco        117\n",
       "Switzerland          116\n",
       "Norway               111\n",
       "New Zealand          111\n",
       "Denmark              109\n",
       "Philadelphia         109\n",
       "Virginia             107\n",
       "Napoleon             106\n",
       "Massachusetts        104\n",
       "Cuba                 104\n",
       "Scotland             101\n",
       "Louisiana            101\n",
       "Rome                 100\n",
       "Richard Nixon        100\n",
       "Poland                95\n",
       "Cleopatra             95\n",
       "Washington            95\n",
       "Name: Answer, dtype: int64"
      ]
     },
     "execution_count": 51,
     "metadata": {},
     "output_type": "execute_result"
    }
   ],
   "source": [
    "multi=jep_df[\"Answer\"].value_counts()[:50]\n",
    "#multi.idxmax() #answer given the most \n",
    "multi"
   ]
  },
  {
   "cell_type": "code",
   "execution_count": 54,
   "id": "2e6fdb8a",
   "metadata": {},
   "outputs": [
    {
     "data": {
      "text/plain": [
       "China           216\n",
       "Australia       215\n",
       "Japan           196\n",
       "Chicago         194\n",
       "France          193\n",
       "India           185\n",
       "California      180\n",
       "Canada          176\n",
       "Spain           171\n",
       "Mexico          164\n",
       "Alaska          161\n",
       "Italy           160\n",
       "Hawaii          157\n",
       "Texas           153\n",
       "Paris           149\n",
       "Germany         147\n",
       "Russia          141\n",
       "Florida         140\n",
       "South Africa    139\n",
       "Ireland         136\n",
       "Name: Answer, dtype: int64"
      ]
     },
     "execution_count": 54,
     "metadata": {},
     "output_type": "execute_result"
    }
   ],
   "source": [
    "#another way of ordering the count by the most times the answer appears\n",
    "jep_df['Answer'].value_counts().nlargest(20)"
   ]
  },
  {
   "cell_type": "markdown",
   "id": "96be71d0",
   "metadata": {},
   "source": [
    "# Find the questions for the top three most common answers\n"
   ]
  },
  {
   "cell_type": "code",
   "execution_count": 47,
   "id": "125c9b46",
   "metadata": {},
   "outputs": [
    {
     "data": {
      "text/plain": [
       "[audio clue]    17\n",
       "[video clue]    14\n",
       "[filler]         5\n",
       "Name: Question, dtype: int64"
      ]
     },
     "execution_count": 47,
     "metadata": {},
     "output_type": "execute_result"
    }
   ],
   "source": [
    "#isloate question column df[]\n",
    "#value counts [:] limits the list to number input \n",
    "\n",
    "jp_iso = jep_df[\"Question\"].value_counts()[:3]\n",
    "#orders the top 3 \n",
    "jp_iso.sort_values(ascending=False)"
   ]
  },
  {
   "cell_type": "markdown",
   "id": "038af361",
   "metadata": {},
   "source": [
    "# Create a visualization that shows the top 5 categories (those referenced the most often)\n"
   ]
  },
  {
   "cell_type": "code",
   "execution_count": 55,
   "id": "1a5bcbeb",
   "metadata": {},
   "outputs": [
    {
     "data": {
      "text/plain": [
       "BEFORE & AFTER      547\n",
       "SCIENCE             519\n",
       "LITERATURE          496\n",
       "AMERICAN HISTORY    418\n",
       "POTPOURRI           401\n",
       "Name: Category, dtype: int64"
      ]
     },
     "execution_count": 55,
     "metadata": {},
     "output_type": "execute_result"
    }
   ],
   "source": [
    "t_5=jep_df['Category'].value_counts()[:5]"
   ]
  },
  {
   "cell_type": "code",
   "execution_count": 99,
   "id": "a777cf6b",
   "metadata": {},
   "outputs": [
    {
     "data": {
      "image/png": "[encoded data removed]",
      "text/plain": [
       "<Figure size 504x288 with 1 Axes>"
      ]
     },
     "metadata": {},
     "output_type": "display_data"
    }
   ],
   "source": [
    "# df by top 5 \n",
    "t_5=jep_df['Category'].value_counts()[:5]\n",
    "#create plot\n",
    "fig, ax = plt.subplots()\n",
    "#plots df \"go-\" creates a green line with circles\n",
    "ax.plot(t_5, 'go-', linewidth=2)\n",
    "#tick marks\n",
    "ax.tick_params('y', colors=\"green\")\n",
    "#labels\n",
    "plt.xlabel(\"Category\")\n",
    "plt.ylabel(\"# of Times Category Has Been Used\")\n",
    "plt.title(\"Top Five Categories Used on Jeopardy from 1984-2012\", color=\"green\")\n",
    "#chang size so labels fit\n",
    "fig.set_size_inches([7, 4])\n",
    "plt.show()"
   ]
  },
  {
   "cell_type": "code",
   "execution_count": null,
   "id": "e5de29b2",
   "metadata": {},
   "outputs": [],
   "source": []
  }
 ],
 "metadata": {
  "kernelspec": {
   "display_name": "Python 3 (ipykernel)",
   "language": "python",
   "name": "python3"
  },
  "language_info": {
   "codemirror_mode": {
    "name": "ipython",
    "version": 3
   },
   "file_extension": ".py",
   "mimetype": "text/x-python",
   "name": "python",
   "nbconvert_exporter": "python",
   "pygments_lexer": "ipython3",
   "version": "3.9.7"
  }
 },
 "nbformat": 4,
 "nbformat_minor": 5
}
